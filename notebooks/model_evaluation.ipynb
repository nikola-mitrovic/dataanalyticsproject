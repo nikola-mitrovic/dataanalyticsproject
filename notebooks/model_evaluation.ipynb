{
 "cells": [
  {
   "cell_type": "markdown",
   "metadata": {},
   "source": [
    " # Required Libraries"
   ]
  },
  {
   "cell_type": "code",
   "execution_count": 47,
   "metadata": {},
   "outputs": [],
   "source": [
    "import pandas as pd\n",
    "import numpy as np\n",
    "from scipy.stats import f_oneway\n",
    "from sklearn.metrics import mean_squared_error, r2_score, mean_absolute_error\n",
    "from sklearn.model_selection import cross_val_score\n",
    "import pymysql\n",
    "pymysql.install_as_MySQLdb()\n",
    "import sys\n",
    "import os\n",
    "import matplotlib.pyplot as plt"
   ]
  },
  {
   "cell_type": "markdown",
   "metadata": {},
   "source": [
    "# Load and process data"
   ]
  },
  {
   "cell_type": "code",
   "execution_count": 48,
   "metadata": {},
   "outputs": [],
   "source": [
    "# Add project path\n",
    "sys.path.append(os.path.abspath(\"..\"))\n",
    "\n",
    "# Import database connection module\n",
    "from database.db_connection import DatabaseConnector\n",
    "\n",
    "# Handle database connection\n",
    "try:\n",
    "    db_connector = DatabaseConnector()\n",
    "    engine = db_connector.get_engine()\n",
    "except Exception as e:\n",
    "    print(f\"Error connecting to the database: {e}\")\n",
    "    sys.exit(1)  # Exit on connection failure\n",
    "\n",
    "# Load data from the database\n",
    "try:\n",
    "    forecast_df = pd.read_sql(\"SELECT * FROM historical_forecast;\", engine)\n",
    "    weather_df = pd.read_sql(\"SELECT * FROM historical_weather;\", engine)\n",
    "except Exception as e:\n",
    "    print(f\"Error loading data from the database: {e}\")\n",
    "    sys.exit(1)  # Exit on data loading failure\n",
    "\n",
    "# Convert datetime to pandas datetime\n",
    "weather_df['datetime'] = pd.to_datetime(weather_df['datetime'])\n",
    "forecast_df['datetime'] = pd.to_datetime(forecast_df['datetime'])"
   ]
  },
  {
   "cell_type": "markdown",
   "metadata": {},
   "source": [
    "# Filter Data for the 15th of Each Month"
   ]
  },
  {
   "cell_type": "code",
   "execution_count": 49,
   "metadata": {},
   "outputs": [],
   "source": [
    "# Filter data for the 15th day of each month (both actual and forecast)\n",
    "weather_df_15th = weather_df[weather_df['datetime'].dt.day == 15]\n",
    "forecast_df_15th = forecast_df[forecast_df['datetime'].dt.day == 15]\n",
    "\n",
    "# Merge actual weather data and forecast data on datetime\n",
    "merged_df = pd.merge(weather_df_15th, forecast_df_15th, on='datetime', suffixes=('_actual', '_forecast'))\n"
   ]
  },
  {
   "cell_type": "markdown",
   "metadata": {},
   "source": [
    "# Compute Fit Measures"
   ]
  },
  {
   "cell_type": "code",
   "execution_count": 50,
   "metadata": {},
   "outputs": [
    {
     "name": "stdout",
     "output_type": "stream",
     "text": [
      "=== Model Fit Measures ===\n",
      "RMSE: 1.88\n",
      "MAE: 1.46\n",
      "R²: 0.94\n"
     ]
    },
    {
     "name": "stderr",
     "output_type": "stream",
     "text": [
      "c:\\Users\\fdrmi\\anaconda3\\Lib\\site-packages\\sklearn\\metrics\\_regression.py:483: FutureWarning: 'squared' is deprecated in version 1.4 and will be removed in 1.6. To calculate the root mean squared error, use the function'root_mean_squared_error'.\n",
      "  warnings.warn(\n"
     ]
    }
   ],
   "source": [
    "if not merged_df.empty:\n",
    "    # Define actual and predicted temperatures\n",
    "    y_actual = merged_df['temperature_2m_actual']\n",
    "    y_forecast = merged_df['temperature_2m_forecast']\n",
    "\n",
    "    # Compute RMSE, MAE, and R²\n",
    "    rmse = mean_squared_error(y_actual, y_forecast, squared=False)\n",
    "    mae = mean_absolute_error(y_actual, y_forecast)\n",
    "    r2 = r2_score(y_actual, y_forecast)\n",
    "\n",
    "    print(\"=== Model Fit Measures ===\")\n",
    "    print(f\"RMSE: {rmse:.2f}\")\n",
    "    print(f\"MAE: {mae:.2f}\")\n",
    "    print(f\"R²: {r2:.2f}\")\n",
    "else:\n",
    "    print(\"No data available for evaluation on the 15th day of each month.\")"
   ]
  },
  {
   "cell_type": "markdown",
   "metadata": {},
   "source": [
    "# ANOVA Test for Temperature Differences on the 15th Day of Each Month"
   ]
  },
  {
   "cell_type": "code",
   "execution_count": 51,
   "metadata": {},
   "outputs": [
    {
     "name": "stdout",
     "output_type": "stream",
     "text": [
      "\n",
      "=== ANOVA (Actual Weather) on the 15th Day ===\n",
      "F-statistic: 138.47\n",
      "p-value: 0.0000\n",
      "Significant differences exist in actual temperatures across months.\n",
      "\n",
      "=== ANOVA (Forecast Weather) on the 15th Day ===\n",
      "F-statistic: 161.93\n",
      "p-value: 0.0000\n",
      "Significant differences exist in forecast temperatures across months.\n"
     ]
    }
   ],
   "source": [
    "# ANOVA: Test for differences in temperature on the 15th of each month (for actual weather data)\n",
    "if len(merged_df) > 0:  # Check if there is data for the 15th of each month\n",
    "    anova_result_actual = f_oneway(\n",
    "        *[merged_df[merged_df['datetime'].dt.month == month]['temperature_2m_actual'] for month in merged_df['datetime'].dt.month.unique()]\n",
    "    )\n",
    "    print(\"\\n=== ANOVA (Actual Weather) on the 15th Day ===\")\n",
    "    print(f\"F-statistic: {anova_result_actual.statistic:.2f}\")\n",
    "    print(f\"p-value: {anova_result_actual.pvalue:.4f}\")\n",
    "\n",
    "    if anova_result_actual.pvalue < 0.05:\n",
    "        print(\"Significant differences exist in actual temperatures across months.\")\n",
    "    else:\n",
    "        print(\"No significant differences in actual temperatures across months.\")\n",
    "else:\n",
    "    print(\"\\nANOVA (Actual Weather) could not be performed due to insufficient data on the 15th of each month.\")\n",
    "\n",
    "# ANOVA: Test for differences in temperature on the 15th of each month (for forecast weather data)\n",
    "if len(merged_df) > 0:\n",
    "    anova_result_forecast = f_oneway(\n",
    "        *[merged_df[merged_df['datetime'].dt.month == month]['temperature_2m_forecast'] for month in merged_df['datetime'].dt.month.unique()]\n",
    "    )\n",
    "    print(\"\\n=== ANOVA (Forecast Weather) on the 15th Day ===\")\n",
    "    print(f\"F-statistic: {anova_result_forecast.statistic:.2f}\")\n",
    "    print(f\"p-value: {anova_result_forecast.pvalue:.4f}\")\n",
    "\n",
    "    if anova_result_forecast.pvalue < 0.05:\n",
    "        print(\"Significant differences exist in forecast temperatures across months.\")\n",
    "    else:\n",
    "        print(\"No significant differences in forecast temperatures across months.\")\n",
    "else:\n",
    "    print(\"\\nANOVA (Forecast Weather) could not be performed due to insufficient data on the 15th of each month.\")"
   ]
  },
  {
   "cell_type": "markdown",
   "metadata": {},
   "source": [
    "# Bar Chart for Actual vs Predicted Temperatures (15th Day of Each Month)"
   ]
  },
  {
   "cell_type": "code",
   "execution_count": 52,
   "metadata": {},
   "outputs": [
    {
     "data": {
      "image/png": "[encoded data removed]",
      "text/plain": [
       "<Figure size 1800x800 with 1 Axes>"
      ]
     },
     "metadata": {},
     "output_type": "display_data"
    }
   ],
   "source": [
    "# Prepare data for the bar chart\n",
    "# Group the data by 'month' and calculate the mean of the temperatures\n",
    "monthly_data = merged_df.groupby(merged_df['datetime'].dt.month).agg(\n",
    "    actual_temp=('temperature_2m_actual', 'mean'),\n",
    "    forecast_temp=('temperature_2m_forecast', 'mean')\n",
    ")\n",
    "\n",
    "# Set the months on the X-axis\n",
    "months = np.arange(1, 13)\n",
    "\n",
    "# Set the width for the bars\n",
    "bar_width = 0.35\n",
    "\n",
    "# Set the X positions for the bars\n",
    "index = np.arange(len(months))\n",
    "\n",
    "# Create a bar chart\n",
    "plt.figure(figsize=(18, 8))\n",
    "plt.bar(index, monthly_data['actual_temp'], bar_width, label='Actual Temperatures', color='blue', alpha=0.7)\n",
    "plt.bar(index + bar_width, monthly_data['forecast_temp'], bar_width, label='Forecast Temperatures', color='orange', alpha=0.7)\n",
    "\n",
    "# Adding titles and labels\n",
    "plt.title('Actual vs Predicted Temperatures (15th Day of Each Month)')\n",
    "plt.xlabel('Month')\n",
    "plt.ylabel('Temperature (°C)')\n",
    "plt.xticks(index + bar_width / 2, months)  # Place the x-ticks at the middle of the bars\n",
    "plt.legend()\n",
    "\n",
    "# Display the grid\n",
    "plt.grid(True)\n",
    "\n",
    "# Show the plot\n",
    "plt.show()"
   ]
  },
  {
   "cell_type": "markdown",
   "metadata": {},
   "source": [
    "# Cross-Validation"
   ]
  },
  {
   "cell_type": "code",
   "execution_count": 53,
   "metadata": {},
   "outputs": [
    {
     "name": "stdout",
     "output_type": "stream",
     "text": [
      "Cross-validated RMSE: nan\n"
     ]
    },
    {
     "name": "stderr",
     "output_type": "stream",
     "text": [
      "C:\\Users\\fdrmi\\AppData\\Local\\Temp\\ipykernel_7724\\1880196413.py:14: RuntimeWarning: invalid value encountered in scalar power\n",
      "  print(f\"Cross-validated RMSE: {-cv_scores.mean() ** 0.5:.2f}\")\n"
     ]
    }
   ],
   "source": [
    "# Cross-validation for model stability\n",
    "# Assuming `X` and `y` are defined (features and target for a predictive model)\n",
    "if 'temperature_2m_actual' in merged_df and 'temperature_2m_forecast' in merged_df:\n",
    "    from sklearn.model_selection import KFold\n",
    "    from sklearn.ensemble import RandomForestRegressor\n",
    "\n",
    "    X = merged_df[['temperature_2m_forecast']]\n",
    "    y = merged_df['temperature_2m_actual']\n",
    "\n",
    "    rf_model = RandomForestRegressor(random_state=42)\n",
    "    kf = KFold(n_splits=5, random_state=42, shuffle=True)\n",
    "\n",
    "    cv_scores = cross_val_score(rf_model, X, y, cv=kf, scoring='neg_mean_squared_error')\n",
    "    print(f\"Cross-validated RMSE: {-cv_scores.mean() ** 0.5:.2f}\")\n",
    "else:\n",
    "    print(\"Cross-validation could not be performed due to insufficient data.\")"
   ]
  },
  {
   "cell_type": "markdown",
   "metadata": {},
   "source": [
    "# Interpretation\n",
    "\n"
   ]
  },
  {
   "cell_type": "markdown",
   "metadata": {},
   "source": [
    "Fit Measures (RMSE, MAE, R²):\n",
    "\n",
    "RMSE (1.88): The Root Mean Squared Error indicates that the average deviation between actual and predicted temperatures is about 1.88 °C. This suggests relatively accurate predictions overall.\n",
    "MAE (1.46): The Mean Absolute Error, which is even lower, indicates that predictions deviate by an average of 1.46 °C.\n",
    "R² (0.94): An R² value of 0.94 means that 94% of the variation in actual temperatures is explained by the predictions. This shows a strong agreement between the model and actual data.\n",
    "\n",
    "ANOVA Results:\n",
    "\n",
    "Actual Temperatures:\n",
    "The F-value (138.47) and p-value (< 0.0001) indicate significant differences in actual temperatures across months. This is expected, as temperatures vary by season.\n",
    "\n",
    "Predicted Temperatures:\n",
    "A similar F-value (161.93) and p-value (< 0.0001) indicate significant differences in predicted temperatures across months. This suggests that the model captures seasonal temperature variations effectively.\n",
    "Bar Chart:\n",
    "\n",
    "The chart compares average actual and predicted temperatures for each month.\n",
    "During summer months (e.g., July, August), predictions are very close to actual values, confirming model accuracy.\n",
    "Slight deviations occur during transitional months (e.g., March, October), possibly indicating that the model is slightly less accurate during rapidly changing weather conditions.\n",
    "Cross-Validation:\n",
    "\n",
    "Cross-validation demonstrates that the model remains stable, producing consistent prediction errors, which underscores its robustness."
   ]
  }
 ],
 "metadata": {
  "kernelspec": {
   "display_name": "base",
   "language": "python",
   "name": "python3"
  },
  "language_info": {
   "codemirror_mode": {
    "name": "ipython",
    "version": 3
   },
   "file_extension": ".py",
   "mimetype": "text/x-python",
   "name": "python",
   "nbconvert_exporter": "python",
   "pygments_lexer": "ipython3",
   "version": "3.12.4"
  }
 },
 "nbformat": 4,
 "nbformat_minor": 2
}
